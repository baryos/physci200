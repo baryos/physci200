{
 "cells": [
  {
   "attachments": {},
   "cell_type": "markdown",
   "metadata": {},
   "source": [
    "# Welcome to PhySci200 - Advanced Experimental Statistics\n",
    "\n",
    "# or\n",
    "\n",
    "# Data analysis at the age of AI"
   ]
  },
  {
   "attachments": {},
   "cell_type": "markdown",
   "metadata": {},
   "source": [
    "## Syllabus – Winter 2024\n",
    "\n",
    "Time:  Tues 12-2, Thurs 12-2 \n",
    "Location:  LS 2320\n",
    "\n",
    "\n",
    "Instructor: Roy Wollman (rwollman@ucla.edu) \n",
    "Teaching Assistant: Thomas Underwood (tomunderwood@ucla.edu)\n",
    "\n",
    "Office Hours: Roy -  Thu 2-3 (by appointment). \n",
    "              Thomas - Thu 4-5 or by appointment\n",
    "\n",
    "Learning outcomes \n",
    "The world has changed. Over a year ago, AI capable of coding and performing data analysis problems was developed and released to the public (ChatGPT, Google Bard, etc). \n",
    "\n",
    "The goal of this class is to equip students with knowledge and skills in using AI systems to perform data analysis and visualization tasks. \n",
    "\n",
    "## Tools\n",
    "\n",
    "### Cursor\n",
    "You will need a subscription for Cursor (https://cursor.sh/). It costs $20/month, which will cost $60 for the entire class. Sorry about that. \n",
    "\n",
    "Cursor is a coding environment with AI integration that completely changes how we code.  \n",
    "\n",
    "### Python\n",
    "General purpose analysis programming language with lots of scientific tools. \n",
    "\n",
    "### Conda\n",
    "You will use the package manager to download additional software tools that extend what you can do with Python. \n",
    "\n",
    "### Github\n",
    "A tool to share code. We will use it throughout the class to send you updates on the notebook we will use. \n",
    "\n",
    "\n",
    "## Class format\n",
    "The class format is “problem-based learning.” Your goal is to solve 5 problems you will be asked to solve in class. \n",
    "\n",
    "Prior to each problem assignment, I will go over a similar problem in class, line by line, to explain how such a problem can be solved and use figures and examples to demonstrate different aspects of the methodology we’ll use. \n",
    "\n",
    "At the beginning of each meeting during the “work in class” portion of the time, I will share “hints” and code that will allow you to continue to make progress on these problems and avoid getting “stuck,” i.e., the longest time you would be “stuck” is one lecture. \n",
    "\n",
    "## Problems we’ll tackle: \n",
    "\n",
    "Problem #1 - Data visualization. \n",
    "\n",
    "Problem #2 - Hypothesis testing - parametric, non-parametric, and permutation-based approaches.  \n",
    "\n",
    "Problem #3 - Statistical models - linear regression and friends. \n",
    "\n",
    "Problem #4 - Dimensionality reduction and clustering\n",
    "\n",
    "Problem #5 - Machine learning and classification. \n",
    "\n",
    "\n",
    "## Grading: \n",
    "100% participation in work-in-class sessions. Thomas and I would evaluate your EFFORT in tackling these problems. \n",
    "\n",
    "The default grade is A+, and I expect most of you (likely all of you…) will get it.\n",
    "\n",
    "However, not coming to class or coming to class and chatting and distracting others could reduce your grade. \n",
    "\n"
   ]
  },
  {
   "attachments": {},
   "cell_type": "markdown",
   "metadata": {},
   "source": [
    "## What are robots good for? a demonstration"
   ]
  },
  {
   "attachments": {},
   "cell_type": "markdown",
   "metadata": {},
   "source": [
    "<span style='color:orange'>create two variables x and y, x is a uniform random variable from 0-100 with 1000 items in it. y is a function of x with some added gaussian noise (slope=0.3, noise sigma  = 20). Plot as scatter plot with labels and everything</span>"
   ]
  },
  {
   "cell_type": "code",
   "execution_count": 2,
   "metadata": {},
   "outputs": [],
   "source": [
    "#cmd-K\n"
   ]
  },
  {
   "attachments": {},
   "cell_type": "markdown",
   "metadata": {},
   "source": [
    "<span style='color:orange'>repeat the code above for six values of sigma (10,20,30,60,100,150) and create a 2 by 3 subplots showing this data with the value of sig in the title</span>\n"
   ]
  },
  {
   "cell_type": "code",
   "execution_count": 3,
   "metadata": {},
   "outputs": [],
   "source": [
    "#cmd-K\n",
    "\n"
   ]
  },
  {
   "attachments": {},
   "cell_type": "markdown",
   "metadata": {},
   "source": [
    "In the chat (ctrl-L) ask the following: \n",
    "\n",
    "<span style='color:orange'>What statistcal analysis would you recommend to estimate the spread of the values of Y around X taking into account the linear trend?</span> \n",
    "\n",
    "Copy the code and see that it makes sense. \n"
   ]
  },
  {
   "cell_type": "code",
   "execution_count": null,
   "metadata": {},
   "outputs": [],
   "source": [
    "#cmd-K"
   ]
  },
  {
   "cell_type": "code",
   "execution_count": 4,
   "metadata": {},
   "outputs": [],
   "source": [
    "\n",
    "\n",
    "# Now you can analyze the spread and pattern of these residuals"
   ]
  },
  {
   "attachments": {},
   "cell_type": "markdown",
   "metadata": {},
   "source": [
    "If you are unsure, ask the robot for clarification in the chat (right side panel cmd-L). For example:\n",
    "\n",
    "<span style='color:orange'>explain what the stats.linregress is doing, I don't know what regression is.</span>"
   ]
  },
  {
   "attachments": {},
   "cell_type": "markdown",
   "metadata": {},
   "source": [
    "Now ask your robot to: \n",
    "\n",
    "<span style='color:orange'> repeat the regression analysis with decreasing sample sizes (from 2 to 1000) and in each case estimate sigma, create a plot of the error in sigma as a function of sample size</span>"
   ]
  },
  {
   "cell_type": "code",
   "execution_count": null,
   "metadata": {},
   "outputs": [],
   "source": [
    "#cmd-K"
   ]
  },
  {
   "attachments": {},
   "cell_type": "markdown",
   "metadata": {},
   "source": [
    "### Mistakes: \n",
    "Your robot can make mistakes, or perhaps you made a mistake and now you have an error. Try to ask the robot for help: \n"
   ]
  },
  {
   "cell_type": "code",
   "execution_count": 5,
   "metadata": {},
   "outputs": [
    {
     "ename": "SyntaxError",
     "evalue": "closing parenthesis ')' does not match opening parenthesis '[' (1905668210.py, line 2)",
     "output_type": "error",
     "traceback": [
      "\u001b[0;36m  Cell \u001b[0;32mIn[5], line 2\u001b[0;36m\u001b[0m\n\u001b[0;31m    a = np.array([1, 2, 3)\u001b[0m\n\u001b[0m                         ^\u001b[0m\n\u001b[0;31mSyntaxError\u001b[0m\u001b[0;31m:\u001b[0m closing parenthesis ')' does not match opening parenthesis '['\n"
     ]
    }
   ],
   "source": [
    "import numpy as np\n",
    "a = np.array([1, 2, 3)\n",
    "print(a)"
   ]
  },
  {
   "attachments": {},
   "cell_type": "markdown",
   "metadata": {},
   "source": [
    "## Summary - you need to learn how to:\n",
    "\n",
    "1. Ask questions! Use the chat interface (cmd-L) to discuss what you are planning to do. Get the robot's opinons. Ask it WHY often and see that you agree with it's thinking. \n",
    "\n",
    "2. Get syntax help - Use the generate interface (cmd-K) to write code for you. Just use english. \n",
    "\n",
    "3. Be critical - always make sure that what you are doing make sense! \n",
    "\n"
   ]
  },
  {
   "cell_type": "markdown",
   "metadata": {},
   "source": []
  }
 ],
 "metadata": {
  "kernelspec": {
   "display_name": "Python 3",
   "language": "python",
   "name": "python3"
  },
  "language_info": {
   "codemirror_mode": {
    "name": "ipython",
    "version": 3
   },
   "file_extension": ".py",
   "mimetype": "text/x-python",
   "name": "python",
   "nbconvert_exporter": "python",
   "pygments_lexer": "ipython3",
   "version": "3.11.6"
  },
  "orig_nbformat": 4
 },
 "nbformat": 4,
 "nbformat_minor": 2
}
